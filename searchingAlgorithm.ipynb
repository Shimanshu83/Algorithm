{
 "metadata": {
  "language_info": {
   "codemirror_mode": {
    "name": "ipython",
    "version": 3
   },
   "file_extension": ".py",
   "mimetype": "text/x-python",
   "name": "python",
   "nbconvert_exporter": "python",
   "pygments_lexer": "ipython3",
   "version": "3.9.1-final"
  },
  "orig_nbformat": 2,
  "kernelspec": {
   "name": "python3",
   "display_name": "Python 3.9.1 64-bit",
   "metadata": {
    "interpreter": {
     "hash": "ab33eafdcf65ff8721ed891688f95f35dfc0ae4a201c3ef4bb4c39d37eef6f30"
    }
   }
  }
 },
 "nbformat": 4,
 "nbformat_minor": 2,
 "cells": [
  {
   "source": [
    "## Linear Search algorithm \n"
   ],
   "cell_type": "markdown",
   "metadata": {}
  },
  {
   "source": [
    "Array = [234,234,23423423423,423423,42,34,23,42,34,2342,3,42,52,354,234]\n",
    "def LinearSearch(Array,element):\n",
    "    exist = False \n",
    "    for i in Array : \n",
    "        if i == element :\n",
    "            exist = True \n",
    "            return exist \n",
    "\n",
    "print(LinearSearch(Array,234)) \n",
    "\n",
    "\n",
    "\n",
    "# asympotatic analysis shows that it is O(n) time complexity running algo \n",
    "\n",
    "    "
   ],
   "cell_type": "code",
   "metadata": {},
   "execution_count": 4,
   "outputs": [
    {
     "output_type": "stream",
     "name": "stdout",
     "text": [
      "True\n"
     ]
    }
   ]
  },
  {
   "source": [
    "\n",
    "## Binary Search \n"
   ],
   "cell_type": "markdown",
   "metadata": {}
  },
  {
   "cell_type": "code",
   "execution_count": 11,
   "metadata": {
    "tags": []
   },
   "outputs": [
    {
     "output_type": "stream",
     "name": "stdout",
     "text": [
      "this is low 0 and this is high 22333\nthis is low 0 and this is high 11165\nthis is low 0 and this is high 5581\nthis is low 0 and this is high 2789\nthis is low 0 and this is high 1393\nthis is low 0 and this is high 695\nthis is low 0 and this is high 346\nthis is low 0 and this is high 172\nthis is low 0 and this is high 85\nthis is low 0 and this is high 41\nthis is low 0 and this is high 19\nthis is low 0 and this is high 8\nTrue\n"
     ]
    }
   ],
   "source": [
    "# sortedArray = [12,234,2445,12355,3452345,23452345,3454]\n",
    "sortedArray1 = [1,2,3,4,5,6,7,8,9,10]\n",
    "sortedArray2 = [i for i in range(22334)]\n",
    "\n",
    "\n",
    "\n",
    "def binarySearch(sortedArray , element):\n",
    "    exist = False\n",
    "    low = 0\n",
    "    high = len(sortedArray) - 1 \n",
    "    mid = (high + low )// 2\n",
    "   \n",
    "\n",
    "    while high >= low : \n",
    "        mid = (high + low )// 2\n",
    "        print(f\"this is low {low} and this is high {high} and mid {mid}\")\n",
    "        if low == high : \n",
    "            if sortedArray[low] == element : \n",
    "                exist = True \n",
    "                return exist \n",
    "            else : \n",
    "                exist = False \n",
    "                return exist \n",
    "\n",
    "        if sortedArray[mid] == element : \n",
    "            exist = True \n",
    "            return exist \n",
    "        \n",
    "        elif   element  > sortedArray[mid] :\n",
    "            low = mid + 1\n",
    "\n",
    "        \n",
    "        elif element  < sortedArray[mid]   : \n",
    "            high = mid -1 \n",
    "\n",
    "\n",
    "    return False \n",
    "\n",
    "\n",
    "print(binarySearch(sortedArray2 , 4))\n",
    "\n",
    "\n",
    "\n",
    "\n",
    "\n",
    "    \n"
   ]
  },
  {
   "cell_type": "code",
   "execution_count": null,
   "metadata": {},
   "outputs": [],
   "source": []
  }
 ]
}